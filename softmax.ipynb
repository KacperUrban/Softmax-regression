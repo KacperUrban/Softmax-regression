{
 "cells": [
  {
   "cell_type": "code",
   "execution_count": 1,
   "id": "97c0505c",
   "metadata": {},
   "outputs": [],
   "source": [
    "import numpy as np\n",
    "from sklearn import datasets\n",
    "import matplotlib.pyplot as plt"
   ]
  },
  {
   "cell_type": "code",
   "execution_count": 2,
   "id": "76fd5a6f",
   "metadata": {},
   "outputs": [
    {
     "data": {
      "text/plain": [
       "dict_keys(['data', 'target', 'frame', 'target_names', 'DESCR', 'feature_names', 'filename'])"
      ]
     },
     "execution_count": 2,
     "metadata": {},
     "output_type": "execute_result"
    }
   ],
   "source": [
    "iris = datasets.load_iris()\n",
    "iris.keys()"
   ]
  },
  {
   "cell_type": "code",
   "execution_count": 3,
   "id": "a62674a2",
   "metadata": {},
   "outputs": [
    {
     "name": "stdout",
     "output_type": "stream",
     "text": [
      "Data: \n",
      "[[1.4 0.2]\n",
      " [1.4 0.2]\n",
      " [1.3 0.2]\n",
      " [1.5 0.2]\n",
      " [1.4 0.2]]\n",
      "Target: \n",
      "[0 0 0 0 0]\n"
     ]
    }
   ],
   "source": [
    "X = iris[\"data\"][:, (2,3)]\n",
    "y = iris[\"target\"]\n",
    "print(\"Data: \")\n",
    "print(X[:5, :])\n",
    "print(\"Target: \")\n",
    "print(y[:5])"
   ]
  },
  {
   "cell_type": "code",
   "execution_count": 4,
   "id": "4585e484",
   "metadata": {},
   "outputs": [
    {
     "name": "stdout",
     "output_type": "stream",
     "text": [
      "Data with bias: \n",
      "[[1.  1.4 0.2]\n",
      " [1.  1.4 0.2]\n",
      " [1.  1.3 0.2]\n",
      " [1.  1.5 0.2]\n",
      " [1.  1.4 0.2]]\n"
     ]
    }
   ],
   "source": [
    "# Adding a bias equal to one\n",
    "X_with_bias = np.c_[np.ones([len(X), 1]), X]\n",
    "print(\"Data with bias: \")\n",
    "print(X_with_bias[:5, :])"
   ]
  },
  {
   "cell_type": "code",
   "execution_count": 5,
   "id": "61908547",
   "metadata": {},
   "outputs": [],
   "source": [
    "#Set a germ of randomness \n",
    "np.random.seed(42)"
   ]
  },
  {
   "cell_type": "code",
   "execution_count": 14,
   "id": "a6ddedb4",
   "metadata": {},
   "outputs": [],
   "source": [
    "#Create a validation, train and test set\n",
    "test_ratio = 0.2\n",
    "validation_ratio = 0.2\n",
    "total_size = len(X_with_bias)\n",
    "\n",
    "test_size = int(total_size * test_ratio)\n",
    "validation_size = int(total_size * validation_ratio)\n",
    "train_size = total_size - test_size - validation_size\n",
    "\n",
    "random_indexes = np.random.permutation(total_size)\n",
    "\n",
    "X_train = X_with_bias[random_indexes[:train_size]]\n",
    "y_train = y[random_indexes[:train_size]]\n",
    "X_validation = X_with_bias[random_indexes[train_size: -validation_size]]\n",
    "y_validation = y[random_indexes[train_size: -validation_size]]\n",
    "X_test = X_with_bias[random_indexes[-test_size:]]\n",
    "y_test = y[random_indexes[-test_size:]]"
   ]
  },
  {
   "cell_type": "code",
   "execution_count": 15,
   "id": "414ddae7",
   "metadata": {},
   "outputs": [
    {
     "data": {
      "text/plain": [
       "2"
      ]
     },
     "execution_count": 15,
     "metadata": {},
     "output_type": "execute_result"
    }
   ],
   "source": [
    "# Implemenation of one hot encoding\n",
    "def to_one_hot(y):\n",
    "    number_of_classes = y.max() + 1\n",
    "    m = len(y)\n",
    "    Y_one_hot = np.zeros((m, number_of_classes))\n",
    "    Y_one_hot[np.arange(m), y] = 1\n",
    "    return Y_one_hot\n"
   ]
  },
  {
   "cell_type": "code",
   "execution_count": null,
   "id": "42824ffe",
   "metadata": {},
   "outputs": [],
   "source": []
  }
 ],
 "metadata": {
  "kernelspec": {
   "display_name": "Python 3 (ipykernel)",
   "language": "python",
   "name": "python3"
  },
  "language_info": {
   "codemirror_mode": {
    "name": "ipython",
    "version": 3
   },
   "file_extension": ".py",
   "mimetype": "text/x-python",
   "name": "python",
   "nbconvert_exporter": "python",
   "pygments_lexer": "ipython3",
   "version": "3.10.4"
  }
 },
 "nbformat": 4,
 "nbformat_minor": 5
}
