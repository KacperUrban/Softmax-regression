{
 "cells": [
  {
   "cell_type": "code",
   "execution_count": 1,
   "id": "97c0505c",
   "metadata": {},
   "outputs": [],
   "source": [
    "import numpy as np\n",
    "from sklearn import datasets\n",
    "import matplotlib.pyplot as plt"
   ]
  },
  {
   "cell_type": "code",
   "execution_count": 2,
   "id": "76fd5a6f",
   "metadata": {},
   "outputs": [
    {
     "data": {
      "text/plain": [
       "dict_keys(['data', 'target', 'frame', 'target_names', 'DESCR', 'feature_names', 'filename'])"
      ]
     },
     "execution_count": 2,
     "metadata": {},
     "output_type": "execute_result"
    }
   ],
   "source": [
    "iris = datasets.load_iris()\n",
    "iris.keys()"
   ]
  },
  {
   "cell_type": "code",
   "execution_count": 3,
   "id": "a62674a2",
   "metadata": {},
   "outputs": [
    {
     "name": "stdout",
     "output_type": "stream",
     "text": [
      "Data: \n",
      "[[1.4 0.2]\n",
      " [1.4 0.2]\n",
      " [1.3 0.2]\n",
      " [1.5 0.2]\n",
      " [1.4 0.2]]\n",
      "Target: \n",
      "[0 0 0 0 0]\n"
     ]
    }
   ],
   "source": [
    "X = iris[\"data\"][:, (2,3)]\n",
    "y = iris[\"target\"]\n",
    "print(\"Data: \")\n",
    "print(X[:5, :])\n",
    "print(\"Target: \")\n",
    "print(y[:5])"
   ]
  },
  {
   "cell_type": "code",
   "execution_count": 4,
   "id": "4585e484",
   "metadata": {},
   "outputs": [
    {
     "name": "stdout",
     "output_type": "stream",
     "text": [
      "Data with bias: \n",
      "[[1.  1.4 0.2]\n",
      " [1.  1.4 0.2]\n",
      " [1.  1.3 0.2]\n",
      " [1.  1.5 0.2]\n",
      " [1.  1.4 0.2]]\n"
     ]
    }
   ],
   "source": [
    "# Adding a bias equal to one\n",
    "X_with_bias = np.c_[np.ones([len(X), 1]), X]\n",
    "print(\"Data with bias: \")\n",
    "print(X_with_bias[:5, :])"
   ]
  },
  {
   "cell_type": "code",
   "execution_count": 5,
   "id": "61908547",
   "metadata": {},
   "outputs": [],
   "source": [
    "#Set a germ of randomness \n",
    "np.random.seed(42)"
   ]
  },
  {
   "cell_type": "code",
   "execution_count": 6,
   "id": "a6ddedb4",
   "metadata": {},
   "outputs": [],
   "source": [
    "#Create a validation, train and test set\n",
    "test_ratio = 0.2\n",
    "validation_ratio = 0.2\n",
    "total_size = len(X_with_bias)\n",
    "\n",
    "test_size = int(total_size * test_ratio)\n",
    "validation_size = int(total_size * validation_ratio)\n",
    "train_size = total_size - test_size - validation_size\n",
    "\n",
    "random_indexes = np.random.permutation(total_size)\n",
    "\n",
    "X_train = X_with_bias[random_indexes[:train_size]]\n",
    "y_train = y[random_indexes[:train_size]]\n",
    "X_validation = X_with_bias[random_indexes[train_size: -validation_size]]\n",
    "y_validation = y[random_indexes[train_size: -validation_size]]\n",
    "X_test = X_with_bias[random_indexes[-test_size:]]\n",
    "y_test = y[random_indexes[-test_size:]]"
   ]
  },
  {
   "cell_type": "code",
   "execution_count": 7,
   "id": "0e039c41",
   "metadata": {},
   "outputs": [],
   "source": [
    "# Implemenation of one hot encoding\n",
    "def to_one_hot(y):\n",
    "    number_of_classes = y.max() + 1\n",
    "    m = len(y)\n",
    "    Y_one_hot = np.zeros((m, number_of_classes))\n",
    "    Y_one_hot[np.arange(m), y] = 1\n",
    "    return Y_one_hot"
   ]
  },
  {
   "cell_type": "code",
   "execution_count": 8,
   "id": "16d0aec3",
   "metadata": {},
   "outputs": [],
   "source": [
    "Y_train_one_hot = to_one_hot(y_train)\n",
    "Y_test_one_hot = to_one_hot(y_test)\n",
    "Y_validation_one_hot = to_one_hot(y_validation)"
   ]
  },
  {
   "cell_type": "code",
   "execution_count": 9,
   "id": "b2af241c",
   "metadata": {},
   "outputs": [],
   "source": [
    "# Softmax function\n",
    "def softmax(logits):\n",
    "    exps = np.exp(logits)\n",
    "    exp_sums = np.sum(exps, axis=1, keepdims=True)\n",
    "    return exps/exp_sums"
   ]
  },
  {
   "cell_type": "code",
   "execution_count": 10,
   "id": "e34bcfaa",
   "metadata": {},
   "outputs": [
    {
     "name": "stdout",
     "output_type": "stream",
     "text": [
      "Number of input: 3\n",
      "Number of outputs: 3\n"
     ]
    }
   ],
   "source": [
    "# Define number of input and output\n",
    "n_inputs = X_train.shape[1]\n",
    "n_outputs = len(np.unique(y_train))\n",
    "print(\"Number of input:\", n_inputs)\n",
    "print(\"Number of outputs:\", n_outputs)"
   ]
  },
  {
   "cell_type": "code",
   "execution_count": 11,
   "id": "890c9b43",
   "metadata": {},
   "outputs": [
    {
     "name": "stdout",
     "output_type": "stream",
     "text": [
      "0 3.5356045081790177\n",
      "500 0.4711387636214726\n",
      "1000 0.36581083713176793\n",
      "1500 0.31328647878313015\n",
      "2000 0.2797297275966953\n",
      "2500 0.25570597398940204\n",
      "3000 0.23734231165431838\n",
      "3500 0.22269576109780229\n",
      "4000 0.210660238747567\n",
      "4500 0.20054860276937572\n",
      "5000 0.19190588292458005\n"
     ]
    }
   ],
   "source": [
    "# Train a softmax model\n",
    "eta = 0.05\n",
    "n_iteration = 5001\n",
    "m = len(X_train)\n",
    "epsilon = 1e-7\n",
    "\n",
    "Theta = np.random.randn(n_inputs, n_outputs)\n",
    "\n",
    "for iteration in range(n_iteration):\n",
    "    logits = X_train.dot(Theta)\n",
    "    Y_proba = softmax(logits)\n",
    "    loss = -np.mean(np.sum(Y_train_one_hot * np.log(Y_proba + epsilon), axis=1))\n",
    "    error = Y_proba - Y_train_one_hot\n",
    "    if iteration%500 == 0:\n",
    "        print(iteration, loss)\n",
    "    gradients = 1/m * X_train.T.dot(error)\n",
    "    Theta = Theta - eta * gradients"
   ]
  },
  {
   "cell_type": "code",
   "execution_count": 13,
   "id": "029f75a8",
   "metadata": {},
   "outputs": [
    {
     "name": "stdout",
     "output_type": "stream",
     "text": [
      "Model parameters: \n",
      "[[ 5.60687481 -1.02439696 -7.40120651]\n",
      " [-1.2010688   0.87371521  0.43203466]\n",
      " [-2.07975966 -0.56278888  4.5593004 ]]\n"
     ]
    }
   ],
   "source": [
    "print(\"Model parameters: \")\n",
    "print(Theta)"
   ]
  },
  {
   "cell_type": "code",
   "execution_count": null,
   "id": "1a99fd6f",
   "metadata": {},
   "outputs": [],
   "source": []
  }
 ],
 "metadata": {
  "kernelspec": {
   "display_name": "Python 3 (ipykernel)",
   "language": "python",
   "name": "python3"
  },
  "language_info": {
   "codemirror_mode": {
    "name": "ipython",
    "version": 3
   },
   "file_extension": ".py",
   "mimetype": "text/x-python",
   "name": "python",
   "nbconvert_exporter": "python",
   "pygments_lexer": "ipython3",
   "version": "3.10.4"
  }
 },
 "nbformat": 4,
 "nbformat_minor": 5
}
